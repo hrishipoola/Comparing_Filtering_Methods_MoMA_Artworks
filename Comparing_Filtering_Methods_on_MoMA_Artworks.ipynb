{
  "nbformat": 4,
  "nbformat_minor": 0,
  "metadata": {
    "colab": {
      "name": "Comparing Filtering Methods on MoMA Artworks.ipynb",
      "provenance": [],
      "collapsed_sections": [],
      "authorship_tag": "ABX9TyP1arwIhk+tZd+9SOzrDN8o",
      "include_colab_link": true
    },
    "kernelspec": {
      "name": "python3",
      "display_name": "Python 3"
    }
  },
  "cells": [
    {
      "cell_type": "markdown",
      "metadata": {
        "id": "view-in-github",
        "colab_type": "text"
      },
      "source": [
        "<a href=\"https://colab.research.google.com/github/hrishipoola/Comparing_Filtering_Methods_MoMA_Artworks/blob/main/Comparing_Filtering_Methods_on_MoMA_Artworks.ipynb\" target=\"_parent\"><img src=\"https://colab.research.google.com/assets/colab-badge.svg\" alt=\"Open In Colab\"/></a>"
      ]
    },
    {
      "cell_type": "markdown",
      "metadata": {
        "id": "roskWxaPH87q"
      },
      "source": [
        "## Table of Contents\n",
        "\n",
        "1. Introduction\n",
        "2. Install & Import Packages\n",
        "3. Read in & Format Data\n",
        "4. Filter using 4 Methods\n",
        "<br> Boolean Mask\n",
        "<br> Loc\n",
        "<br> Query\n",
        "<br> np.where\n",
        "5. Timeit() Compare\n",
        "6. References"
      ]
    },
    {
      "cell_type": "markdown",
      "metadata": {
        "id": "YrlwTzvOIP42"
      },
      "source": [
        "## 1. Introduction\n",
        "\n",
        "We regularly filter dataframes using boolean masking, loc, query, and numpy.where. I was curious how they actually compared. I came across a similar [comparison of the three operations](https://ramiro.org/notebook/pandas-crosstab-groupby-pivot/) by Ramiro Gomez. Today, we'll demonstrate four filtering methods in achieving the same filtered dataframe and compare their ease of use and runtime. \n",
        "\n",
        "Boolean masking, loc, query, and numpy.where can be used interchangeably as a matter of choice and data types, though I find query to be the most elegant because it doesn't require you to repeatedly call the dataframe (it also filters in place). We'll see below that, for the size of data set we're using (>100,000 records),  query is also the fastest, followed by loc, boolean, and np.where. np.where is the slowest as it must first create a list of indexes that meet our conditions.\n",
        "\n",
        "We'll work with [data](https://github.com/MuseumofModernArt/collection/blob/master/Artworks.csv) from the Museum of Modern Art (MoMA). It includes data on >130,000 artworks acquired by MoMA including title, artist, date made, medium, dimensions, and date acquired. MoMA also has data set of [artists](https://github.com/MuseumofModernArt/collection/blob/master/Artists.csv). If you're interested in other art data sets, check out these from [The Tate](https://github.com/tategallery/collection) and [Carnegie Museum of Art](https://github.com/cmoa/collection). \n",
        "\n",
        "As an example task emphasizing performance as a filtering method, let's create a filtered dataframe of sculptures made with bronze by American or German women with first names starting with the letter K that were acquired by MoMA from 1990 onward. Let's then calculate and plot average runtime for each operation using [timeit()](https://docs.python.org/3/library/timeit.html). "
      ]
    },
    {
      "cell_type": "markdown",
      "metadata": {
        "id": "2VaNevMYX_ix"
      },
      "source": [
        "## 2. Install & Import Packages"
      ]
    },
    {
      "cell_type": "code",
      "metadata": {
        "id": "CYaVZOe_I44m"
      },
      "source": [
        "import pandas as pd\n",
        "import numpy as np\n",
        "import seaborn as sns\n",
        "import matplotlib.pyplot as plt\n",
        "from matplotlib import style\n",
        "sns.set_style(\"darkgrid\")\n",
        "style.use('fivethirtyeight')\n",
        "import timeit\n",
        "import io\n",
        "pd.set_option('display.max_columns', None)\n",
        "pd.set_option('display.max_rows', None)\n"
      ],
      "execution_count": 1,
      "outputs": []
    },
    {
      "cell_type": "markdown",
      "metadata": {
        "id": "ZTIztQLCYFoM"
      },
      "source": [
        "## 3. Read In & Format Data"
      ]
    },
    {
      "cell_type": "code",
      "metadata": {
        "colab": {
          "base_uri": "https://localhost:8080/",
          "height": 574
        },
        "id": "q2-DmBrLJK61",
        "outputId": "b57b0f07-c612-4af1-9275-db83eba1dda9"
      },
      "source": [
        "df_raw = pd.read_csv('https://media.githubusercontent.com/media/MuseumofModernArt/collection/master/Artworks.csv')\n",
        "df_raw.head()"
      ],
      "execution_count": 9,
      "outputs": [
        {
          "output_type": "execute_result",
          "data": {
            "text/html": [
              "<div>\n",
              "<style scoped>\n",
              "    .dataframe tbody tr th:only-of-type {\n",
              "        vertical-align: middle;\n",
              "    }\n",
              "\n",
              "    .dataframe tbody tr th {\n",
              "        vertical-align: top;\n",
              "    }\n",
              "\n",
              "    .dataframe thead th {\n",
              "        text-align: right;\n",
              "    }\n",
              "</style>\n",
              "<table border=\"1\" class=\"dataframe\">\n",
              "  <thead>\n",
              "    <tr style=\"text-align: right;\">\n",
              "      <th></th>\n",
              "      <th>Title</th>\n",
              "      <th>Artist</th>\n",
              "      <th>ConstituentID</th>\n",
              "      <th>ArtistBio</th>\n",
              "      <th>Nationality</th>\n",
              "      <th>BeginDate</th>\n",
              "      <th>EndDate</th>\n",
              "      <th>Gender</th>\n",
              "      <th>Date</th>\n",
              "      <th>Medium</th>\n",
              "      <th>Dimensions</th>\n",
              "      <th>CreditLine</th>\n",
              "      <th>AccessionNumber</th>\n",
              "      <th>Classification</th>\n",
              "      <th>Department</th>\n",
              "      <th>DateAcquired</th>\n",
              "      <th>Cataloged</th>\n",
              "      <th>ObjectID</th>\n",
              "      <th>URL</th>\n",
              "      <th>ThumbnailURL</th>\n",
              "      <th>Circumference (cm)</th>\n",
              "      <th>Depth (cm)</th>\n",
              "      <th>Diameter (cm)</th>\n",
              "      <th>Height (cm)</th>\n",
              "      <th>Length (cm)</th>\n",
              "      <th>Weight (kg)</th>\n",
              "      <th>Width (cm)</th>\n",
              "      <th>Seat Height (cm)</th>\n",
              "      <th>Duration (sec.)</th>\n",
              "    </tr>\n",
              "  </thead>\n",
              "  <tbody>\n",
              "    <tr>\n",
              "      <th>0</th>\n",
              "      <td>Ferdinandsbrücke Project, Vienna, Austria (Ele...</td>\n",
              "      <td>Otto Wagner</td>\n",
              "      <td>6210</td>\n",
              "      <td>(Austrian, 1841–1918)</td>\n",
              "      <td>(Austrian)</td>\n",
              "      <td>(1841)</td>\n",
              "      <td>(1918)</td>\n",
              "      <td>(Male)</td>\n",
              "      <td>1896</td>\n",
              "      <td>Ink and cut-and-pasted painted pages on paper</td>\n",
              "      <td>19 1/8 x 66 1/2\" (48.6 x 168.9 cm)</td>\n",
              "      <td>Fractional and promised gift of Jo Carole and ...</td>\n",
              "      <td>885.1996</td>\n",
              "      <td>Architecture</td>\n",
              "      <td>Architecture &amp; Design</td>\n",
              "      <td>1996-04-09</td>\n",
              "      <td>Y</td>\n",
              "      <td>2</td>\n",
              "      <td>http://www.moma.org/collection/works/2</td>\n",
              "      <td>http://www.moma.org/media/W1siZiIsIjU5NDA1Il0s...</td>\n",
              "      <td>NaN</td>\n",
              "      <td>NaN</td>\n",
              "      <td>NaN</td>\n",
              "      <td>48.6000</td>\n",
              "      <td>NaN</td>\n",
              "      <td>NaN</td>\n",
              "      <td>168.9000</td>\n",
              "      <td>NaN</td>\n",
              "      <td>NaN</td>\n",
              "    </tr>\n",
              "    <tr>\n",
              "      <th>1</th>\n",
              "      <td>City of Music, National Superior Conservatory ...</td>\n",
              "      <td>Christian de Portzamparc</td>\n",
              "      <td>7470</td>\n",
              "      <td>(French, born 1944)</td>\n",
              "      <td>(French)</td>\n",
              "      <td>(1944)</td>\n",
              "      <td>(0)</td>\n",
              "      <td>(Male)</td>\n",
              "      <td>1987</td>\n",
              "      <td>Paint and colored pencil on print</td>\n",
              "      <td>16 x 11 3/4\" (40.6 x 29.8 cm)</td>\n",
              "      <td>Gift of the architect in honor of Lily Auchinc...</td>\n",
              "      <td>1.1995</td>\n",
              "      <td>Architecture</td>\n",
              "      <td>Architecture &amp; Design</td>\n",
              "      <td>1995-01-17</td>\n",
              "      <td>Y</td>\n",
              "      <td>3</td>\n",
              "      <td>http://www.moma.org/collection/works/3</td>\n",
              "      <td>http://www.moma.org/media/W1siZiIsIjk3Il0sWyJw...</td>\n",
              "      <td>NaN</td>\n",
              "      <td>NaN</td>\n",
              "      <td>NaN</td>\n",
              "      <td>40.6401</td>\n",
              "      <td>NaN</td>\n",
              "      <td>NaN</td>\n",
              "      <td>29.8451</td>\n",
              "      <td>NaN</td>\n",
              "      <td>NaN</td>\n",
              "    </tr>\n",
              "    <tr>\n",
              "      <th>2</th>\n",
              "      <td>Villa near Vienna Project, Outside Vienna, Aus...</td>\n",
              "      <td>Emil Hoppe</td>\n",
              "      <td>7605</td>\n",
              "      <td>(Austrian, 1876–1957)</td>\n",
              "      <td>(Austrian)</td>\n",
              "      <td>(1876)</td>\n",
              "      <td>(1957)</td>\n",
              "      <td>(Male)</td>\n",
              "      <td>1903</td>\n",
              "      <td>Graphite, pen, color pencil, ink, and gouache ...</td>\n",
              "      <td>13 1/2 x 12 1/2\" (34.3 x 31.8 cm)</td>\n",
              "      <td>Gift of Jo Carole and Ronald S. Lauder</td>\n",
              "      <td>1.1997</td>\n",
              "      <td>Architecture</td>\n",
              "      <td>Architecture &amp; Design</td>\n",
              "      <td>1997-01-15</td>\n",
              "      <td>Y</td>\n",
              "      <td>4</td>\n",
              "      <td>http://www.moma.org/collection/works/4</td>\n",
              "      <td>http://www.moma.org/media/W1siZiIsIjk4Il0sWyJw...</td>\n",
              "      <td>NaN</td>\n",
              "      <td>NaN</td>\n",
              "      <td>NaN</td>\n",
              "      <td>34.3000</td>\n",
              "      <td>NaN</td>\n",
              "      <td>NaN</td>\n",
              "      <td>31.8000</td>\n",
              "      <td>NaN</td>\n",
              "      <td>NaN</td>\n",
              "    </tr>\n",
              "    <tr>\n",
              "      <th>3</th>\n",
              "      <td>The Manhattan Transcripts Project, New York, N...</td>\n",
              "      <td>Bernard Tschumi</td>\n",
              "      <td>7056</td>\n",
              "      <td>(French and Swiss, born Switzerland 1944)</td>\n",
              "      <td>()</td>\n",
              "      <td>(1944)</td>\n",
              "      <td>(0)</td>\n",
              "      <td>(Male)</td>\n",
              "      <td>1980</td>\n",
              "      <td>Photographic reproduction with colored synthet...</td>\n",
              "      <td>20 x 20\" (50.8 x 50.8 cm)</td>\n",
              "      <td>Purchase and partial gift of the architect in ...</td>\n",
              "      <td>2.1995</td>\n",
              "      <td>Architecture</td>\n",
              "      <td>Architecture &amp; Design</td>\n",
              "      <td>1995-01-17</td>\n",
              "      <td>Y</td>\n",
              "      <td>5</td>\n",
              "      <td>http://www.moma.org/collection/works/5</td>\n",
              "      <td>http://www.moma.org/media/W1siZiIsIjEyNCJdLFsi...</td>\n",
              "      <td>NaN</td>\n",
              "      <td>NaN</td>\n",
              "      <td>NaN</td>\n",
              "      <td>50.8000</td>\n",
              "      <td>NaN</td>\n",
              "      <td>NaN</td>\n",
              "      <td>50.8000</td>\n",
              "      <td>NaN</td>\n",
              "      <td>NaN</td>\n",
              "    </tr>\n",
              "    <tr>\n",
              "      <th>4</th>\n",
              "      <td>Villa, project, outside Vienna, Austria, Exter...</td>\n",
              "      <td>Emil Hoppe</td>\n",
              "      <td>7605</td>\n",
              "      <td>(Austrian, 1876–1957)</td>\n",
              "      <td>(Austrian)</td>\n",
              "      <td>(1876)</td>\n",
              "      <td>(1957)</td>\n",
              "      <td>(Male)</td>\n",
              "      <td>1903</td>\n",
              "      <td>Graphite, color pencil, ink, and gouache on tr...</td>\n",
              "      <td>15 1/8 x 7 1/2\" (38.4 x 19.1 cm)</td>\n",
              "      <td>Gift of Jo Carole and Ronald S. Lauder</td>\n",
              "      <td>2.1997</td>\n",
              "      <td>Architecture</td>\n",
              "      <td>Architecture &amp; Design</td>\n",
              "      <td>1997-01-15</td>\n",
              "      <td>Y</td>\n",
              "      <td>6</td>\n",
              "      <td>http://www.moma.org/collection/works/6</td>\n",
              "      <td>http://www.moma.org/media/W1siZiIsIjEyNiJdLFsi...</td>\n",
              "      <td>NaN</td>\n",
              "      <td>NaN</td>\n",
              "      <td>NaN</td>\n",
              "      <td>38.4000</td>\n",
              "      <td>NaN</td>\n",
              "      <td>NaN</td>\n",
              "      <td>19.1000</td>\n",
              "      <td>NaN</td>\n",
              "      <td>NaN</td>\n",
              "    </tr>\n",
              "  </tbody>\n",
              "</table>\n",
              "</div>"
            ],
            "text/plain": [
              "                                               Title  \\\n",
              "0  Ferdinandsbrücke Project, Vienna, Austria (Ele...   \n",
              "1  City of Music, National Superior Conservatory ...   \n",
              "2  Villa near Vienna Project, Outside Vienna, Aus...   \n",
              "3  The Manhattan Transcripts Project, New York, N...   \n",
              "4  Villa, project, outside Vienna, Austria, Exter...   \n",
              "\n",
              "                     Artist ConstituentID  \\\n",
              "0               Otto Wagner          6210   \n",
              "1  Christian de Portzamparc          7470   \n",
              "2                Emil Hoppe          7605   \n",
              "3           Bernard Tschumi          7056   \n",
              "4                Emil Hoppe          7605   \n",
              "\n",
              "                                   ArtistBio Nationality BeginDate EndDate  \\\n",
              "0                      (Austrian, 1841–1918)  (Austrian)    (1841)  (1918)   \n",
              "1                        (French, born 1944)    (French)    (1944)     (0)   \n",
              "2                      (Austrian, 1876–1957)  (Austrian)    (1876)  (1957)   \n",
              "3  (French and Swiss, born Switzerland 1944)          ()    (1944)     (0)   \n",
              "4                      (Austrian, 1876–1957)  (Austrian)    (1876)  (1957)   \n",
              "\n",
              "   Gender  Date                                             Medium  \\\n",
              "0  (Male)  1896      Ink and cut-and-pasted painted pages on paper   \n",
              "1  (Male)  1987                  Paint and colored pencil on print   \n",
              "2  (Male)  1903  Graphite, pen, color pencil, ink, and gouache ...   \n",
              "3  (Male)  1980  Photographic reproduction with colored synthet...   \n",
              "4  (Male)  1903  Graphite, color pencil, ink, and gouache on tr...   \n",
              "\n",
              "                           Dimensions  \\\n",
              "0  19 1/8 x 66 1/2\" (48.6 x 168.9 cm)   \n",
              "1       16 x 11 3/4\" (40.6 x 29.8 cm)   \n",
              "2   13 1/2 x 12 1/2\" (34.3 x 31.8 cm)   \n",
              "3           20 x 20\" (50.8 x 50.8 cm)   \n",
              "4    15 1/8 x 7 1/2\" (38.4 x 19.1 cm)   \n",
              "\n",
              "                                          CreditLine AccessionNumber  \\\n",
              "0  Fractional and promised gift of Jo Carole and ...        885.1996   \n",
              "1  Gift of the architect in honor of Lily Auchinc...          1.1995   \n",
              "2             Gift of Jo Carole and Ronald S. Lauder          1.1997   \n",
              "3  Purchase and partial gift of the architect in ...          2.1995   \n",
              "4             Gift of Jo Carole and Ronald S. Lauder          2.1997   \n",
              "\n",
              "  Classification             Department DateAcquired Cataloged  ObjectID  \\\n",
              "0   Architecture  Architecture & Design   1996-04-09         Y         2   \n",
              "1   Architecture  Architecture & Design   1995-01-17         Y         3   \n",
              "2   Architecture  Architecture & Design   1997-01-15         Y         4   \n",
              "3   Architecture  Architecture & Design   1995-01-17         Y         5   \n",
              "4   Architecture  Architecture & Design   1997-01-15         Y         6   \n",
              "\n",
              "                                      URL  \\\n",
              "0  http://www.moma.org/collection/works/2   \n",
              "1  http://www.moma.org/collection/works/3   \n",
              "2  http://www.moma.org/collection/works/4   \n",
              "3  http://www.moma.org/collection/works/5   \n",
              "4  http://www.moma.org/collection/works/6   \n",
              "\n",
              "                                        ThumbnailURL  Circumference (cm)  \\\n",
              "0  http://www.moma.org/media/W1siZiIsIjU5NDA1Il0s...                 NaN   \n",
              "1  http://www.moma.org/media/W1siZiIsIjk3Il0sWyJw...                 NaN   \n",
              "2  http://www.moma.org/media/W1siZiIsIjk4Il0sWyJw...                 NaN   \n",
              "3  http://www.moma.org/media/W1siZiIsIjEyNCJdLFsi...                 NaN   \n",
              "4  http://www.moma.org/media/W1siZiIsIjEyNiJdLFsi...                 NaN   \n",
              "\n",
              "   Depth (cm)  Diameter (cm)  Height (cm)  Length (cm)  Weight (kg)  \\\n",
              "0         NaN            NaN      48.6000          NaN          NaN   \n",
              "1         NaN            NaN      40.6401          NaN          NaN   \n",
              "2         NaN            NaN      34.3000          NaN          NaN   \n",
              "3         NaN            NaN      50.8000          NaN          NaN   \n",
              "4         NaN            NaN      38.4000          NaN          NaN   \n",
              "\n",
              "   Width (cm)  Seat Height (cm)  Duration (sec.)  \n",
              "0    168.9000               NaN              NaN  \n",
              "1     29.8451               NaN              NaN  \n",
              "2     31.8000               NaN              NaN  \n",
              "3     50.8000               NaN              NaN  \n",
              "4     19.1000               NaN              NaN  "
            ]
          },
          "metadata": {
            "tags": []
          },
          "execution_count": 9
        }
      ]
    },
    {
      "cell_type": "code",
      "metadata": {
        "id": "7vFrDRKMIgXS"
      },
      "source": [
        "def format_moma(df_raw):\n",
        "  # Returns formatted moma dataframe\n",
        "  global df\n",
        "  df = df_raw.filter(['Title', 'Artist', 'Nationality', 'Gender', 'Medium', 'Classification', 'DateAcquired'])\n",
        "  df.Nationality = df.Nationality.str.replace('[^A-Za-z]', '') # Remove anon-alpha characters \n",
        "  df.Gender = df.Gender.str.replace('[^A-Za-z]', '').str.strip() # Remove non-alpha characters \n",
        "  df.DateAcquired = pd.to_datetime(df.DateAcquired, format='%Y-%m-%d')\n",
        "  df = df.replace(r'^\\s*$', np.nan, regex=True)\n",
        "  df.dropna(inplace=True) # for the purpose of this exercise, we'll dropna\n",
        "  df = df.assign(YearAcquired = lambda x: x.DateAcquired.dt.year) # Create YearAcquired column\n",
        "  return df\n",
        "\n",
        "format_moma(df_raw)"
      ],
      "execution_count": 10,
      "outputs": []
    },
    {
      "cell_type": "code",
      "metadata": {
        "colab": {
          "base_uri": "https://localhost:8080/",
          "height": 293
        },
        "id": "Y6wBcH28Jq8c",
        "outputId": "5f305bb5-486d-4fa2-af2b-397964ae2206"
      },
      "source": [
        "df.head()"
      ],
      "execution_count": 11,
      "outputs": [
        {
          "output_type": "execute_result",
          "data": {
            "text/html": [
              "<div>\n",
              "<style scoped>\n",
              "    .dataframe tbody tr th:only-of-type {\n",
              "        vertical-align: middle;\n",
              "    }\n",
              "\n",
              "    .dataframe tbody tr th {\n",
              "        vertical-align: top;\n",
              "    }\n",
              "\n",
              "    .dataframe thead th {\n",
              "        text-align: right;\n",
              "    }\n",
              "</style>\n",
              "<table border=\"1\" class=\"dataframe\">\n",
              "  <thead>\n",
              "    <tr style=\"text-align: right;\">\n",
              "      <th></th>\n",
              "      <th>Title</th>\n",
              "      <th>Artist</th>\n",
              "      <th>Nationality</th>\n",
              "      <th>Gender</th>\n",
              "      <th>Medium</th>\n",
              "      <th>Classification</th>\n",
              "      <th>DateAcquired</th>\n",
              "      <th>YearAcquired</th>\n",
              "    </tr>\n",
              "  </thead>\n",
              "  <tbody>\n",
              "    <tr>\n",
              "      <th>0</th>\n",
              "      <td>Ferdinandsbrücke Project, Vienna, Austria (Ele...</td>\n",
              "      <td>Otto Wagner</td>\n",
              "      <td>Austrian</td>\n",
              "      <td>Male</td>\n",
              "      <td>Ink and cut-and-pasted painted pages on paper</td>\n",
              "      <td>Architecture</td>\n",
              "      <td>1996-04-09</td>\n",
              "      <td>1996</td>\n",
              "    </tr>\n",
              "    <tr>\n",
              "      <th>1</th>\n",
              "      <td>City of Music, National Superior Conservatory ...</td>\n",
              "      <td>Christian de Portzamparc</td>\n",
              "      <td>French</td>\n",
              "      <td>Male</td>\n",
              "      <td>Paint and colored pencil on print</td>\n",
              "      <td>Architecture</td>\n",
              "      <td>1995-01-17</td>\n",
              "      <td>1995</td>\n",
              "    </tr>\n",
              "    <tr>\n",
              "      <th>2</th>\n",
              "      <td>Villa near Vienna Project, Outside Vienna, Aus...</td>\n",
              "      <td>Emil Hoppe</td>\n",
              "      <td>Austrian</td>\n",
              "      <td>Male</td>\n",
              "      <td>Graphite, pen, color pencil, ink, and gouache ...</td>\n",
              "      <td>Architecture</td>\n",
              "      <td>1997-01-15</td>\n",
              "      <td>1997</td>\n",
              "    </tr>\n",
              "    <tr>\n",
              "      <th>4</th>\n",
              "      <td>Villa, project, outside Vienna, Austria, Exter...</td>\n",
              "      <td>Emil Hoppe</td>\n",
              "      <td>Austrian</td>\n",
              "      <td>Male</td>\n",
              "      <td>Graphite, color pencil, ink, and gouache on tr...</td>\n",
              "      <td>Architecture</td>\n",
              "      <td>1997-01-15</td>\n",
              "      <td>1997</td>\n",
              "    </tr>\n",
              "    <tr>\n",
              "      <th>30</th>\n",
              "      <td>Memorial to the Six Million Jewish Martyrs, pr...</td>\n",
              "      <td>Louis I. Kahn</td>\n",
              "      <td>American</td>\n",
              "      <td>Male</td>\n",
              "      <td>Charcoal and graphite on tracing paper</td>\n",
              "      <td>Architecture</td>\n",
              "      <td>1997-01-15</td>\n",
              "      <td>1997</td>\n",
              "    </tr>\n",
              "  </tbody>\n",
              "</table>\n",
              "</div>"
            ],
            "text/plain": [
              "                                                Title  \\\n",
              "0   Ferdinandsbrücke Project, Vienna, Austria (Ele...   \n",
              "1   City of Music, National Superior Conservatory ...   \n",
              "2   Villa near Vienna Project, Outside Vienna, Aus...   \n",
              "4   Villa, project, outside Vienna, Austria, Exter...   \n",
              "30  Memorial to the Six Million Jewish Martyrs, pr...   \n",
              "\n",
              "                      Artist Nationality Gender  \\\n",
              "0                Otto Wagner    Austrian   Male   \n",
              "1   Christian de Portzamparc      French   Male   \n",
              "2                 Emil Hoppe    Austrian   Male   \n",
              "4                 Emil Hoppe    Austrian   Male   \n",
              "30             Louis I. Kahn    American   Male   \n",
              "\n",
              "                                               Medium Classification  \\\n",
              "0       Ink and cut-and-pasted painted pages on paper   Architecture   \n",
              "1                   Paint and colored pencil on print   Architecture   \n",
              "2   Graphite, pen, color pencil, ink, and gouache ...   Architecture   \n",
              "4   Graphite, color pencil, ink, and gouache on tr...   Architecture   \n",
              "30             Charcoal and graphite on tracing paper   Architecture   \n",
              "\n",
              "   DateAcquired  YearAcquired  \n",
              "0    1996-04-09          1996  \n",
              "1    1995-01-17          1995  \n",
              "2    1997-01-15          1997  \n",
              "4    1997-01-15          1997  \n",
              "30   1997-01-15          1997  "
            ]
          },
          "metadata": {
            "tags": []
          },
          "execution_count": 11
        }
      ]
    },
    {
      "cell_type": "code",
      "metadata": {
        "colab": {
          "base_uri": "https://localhost:8080/"
        },
        "id": "6EQ6g2hVFEI2",
        "outputId": "b4ad02fc-1f71-4ff8-daf9-3542883932cf"
      },
      "source": [
        "df.info()"
      ],
      "execution_count": 12,
      "outputs": [
        {
          "output_type": "stream",
          "text": [
            "<class 'pandas.core.frame.DataFrame'>\n",
            "Int64Index: 114640 entries, 0 to 138150\n",
            "Data columns (total 8 columns):\n",
            " #   Column          Non-Null Count   Dtype         \n",
            "---  ------          --------------   -----         \n",
            " 0   Title           114640 non-null  object        \n",
            " 1   Artist          114640 non-null  object        \n",
            " 2   Nationality     114640 non-null  object        \n",
            " 3   Gender          114640 non-null  object        \n",
            " 4   Medium          114640 non-null  object        \n",
            " 5   Classification  114640 non-null  object        \n",
            " 6   DateAcquired    114640 non-null  datetime64[ns]\n",
            " 7   YearAcquired    114640 non-null  int64         \n",
            "dtypes: datetime64[ns](1), int64(1), object(6)\n",
            "memory usage: 7.9+ MB\n"
          ],
          "name": "stdout"
        }
      ]
    },
    {
      "cell_type": "markdown",
      "metadata": {
        "id": "KAXSK_vhYN4V"
      },
      "source": [
        "## 4. Filter Using 4 Methods\n",
        "\n",
        "As an example task emphasizing performance as a filtering method, let's create a filtered dataframe of sculptures made with bronze by American or German women with first names starting with the letter K that were acquired by MoMA from 1990 onward. Each method is used to create the same dataframe. "
      ]
    },
    {
      "cell_type": "markdown",
      "metadata": {
        "id": "cl7YJX_aLkPJ"
      },
      "source": [
        "### Boolean Mask"
      ]
    },
    {
      "cell_type": "code",
      "metadata": {
        "colab": {
          "base_uri": "https://localhost:8080/",
          "height": 112
        },
        "id": "iQK5atYP9b20",
        "outputId": "d07ef0ff-ce8a-40e0-d6b5-4c21e471a33c"
      },
      "source": [
        "filtered = df[(df.Gender=='Female') \\\n",
        "                  & (df.Nationality.isin(['American','German'])) \\\n",
        "                  & (df.Classification=='Sculpture') \\\n",
        "                  & (df.YearAcquired >= 1990) \\\n",
        "                  & (df.Artist.str.startswith('K')) \\\n",
        "                  & (df.Medium.str.contains('bronze'))]\n",
        "filtered"
      ],
      "execution_count": 13,
      "outputs": [
        {
          "output_type": "execute_result",
          "data": {
            "text/html": [
              "<div>\n",
              "<style scoped>\n",
              "    .dataframe tbody tr th:only-of-type {\n",
              "        vertical-align: middle;\n",
              "    }\n",
              "\n",
              "    .dataframe tbody tr th {\n",
              "        vertical-align: top;\n",
              "    }\n",
              "\n",
              "    .dataframe thead th {\n",
              "        text-align: right;\n",
              "    }\n",
              "</style>\n",
              "<table border=\"1\" class=\"dataframe\">\n",
              "  <thead>\n",
              "    <tr style=\"text-align: right;\">\n",
              "      <th></th>\n",
              "      <th>Title</th>\n",
              "      <th>Artist</th>\n",
              "      <th>Nationality</th>\n",
              "      <th>Gender</th>\n",
              "      <th>Medium</th>\n",
              "      <th>Classification</th>\n",
              "      <th>DateAcquired</th>\n",
              "      <th>YearAcquired</th>\n",
              "    </tr>\n",
              "  </thead>\n",
              "  <tbody>\n",
              "    <tr>\n",
              "      <th>98186</th>\n",
              "      <td>Group of Figures</td>\n",
              "      <td>Katharina Fritsch</td>\n",
              "      <td>German</td>\n",
              "      <td>Female</td>\n",
              "      <td>Painted stainless steel, painted bronze, and p...</td>\n",
              "      <td>Sculpture</td>\n",
              "      <td>2009-09-21</td>\n",
              "      <td>2009</td>\n",
              "    </tr>\n",
              "    <tr>\n",
              "      <th>115793</th>\n",
              "      <td>Lure</td>\n",
              "      <td>Kiki Smith</td>\n",
              "      <td>American</td>\n",
              "      <td>Female</td>\n",
              "      <td>Bronze with string, forged bronze hook, and pe...</td>\n",
              "      <td>Sculpture</td>\n",
              "      <td>2013-10-07</td>\n",
              "      <td>2013</td>\n",
              "    </tr>\n",
              "  </tbody>\n",
              "</table>\n",
              "</div>"
            ],
            "text/plain": [
              "                   Title             Artist Nationality  Gender  \\\n",
              "98186   Group of Figures  Katharina Fritsch      German  Female   \n",
              "115793              Lure         Kiki Smith    American  Female   \n",
              "\n",
              "                                                   Medium Classification  \\\n",
              "98186   Painted stainless steel, painted bronze, and p...      Sculpture   \n",
              "115793  Bronze with string, forged bronze hook, and pe...      Sculpture   \n",
              "\n",
              "       DateAcquired  YearAcquired  \n",
              "98186    2009-09-21          2009  \n",
              "115793   2013-10-07          2013  "
            ]
          },
          "metadata": {
            "tags": []
          },
          "execution_count": 13
        }
      ]
    },
    {
      "cell_type": "markdown",
      "metadata": {
        "id": "Ip7Dde97Lmmp"
      },
      "source": [
        "### Loc"
      ]
    },
    {
      "cell_type": "code",
      "metadata": {
        "colab": {
          "base_uri": "https://localhost:8080/",
          "height": 112
        },
        "id": "9h8-b1d8BzTg",
        "outputId": "8780f3aa-7113-4aa6-b035-2464271f0b7f"
      },
      "source": [
        "filtered = df.loc[(df.Gender=='Female') \\\n",
        "                  & (df.Nationality.isin(['American','German'])) \\\n",
        "                  & (df.Classification=='Sculpture') \\\n",
        "                  & (df.YearAcquired >= 1990) \\\n",
        "                  & (df.Artist.str.startswith('K')) \\\n",
        "                  & (df.Medium.str.contains('bronze'))]\n",
        "filtered"
      ],
      "execution_count": 14,
      "outputs": [
        {
          "output_type": "execute_result",
          "data": {
            "text/html": [
              "<div>\n",
              "<style scoped>\n",
              "    .dataframe tbody tr th:only-of-type {\n",
              "        vertical-align: middle;\n",
              "    }\n",
              "\n",
              "    .dataframe tbody tr th {\n",
              "        vertical-align: top;\n",
              "    }\n",
              "\n",
              "    .dataframe thead th {\n",
              "        text-align: right;\n",
              "    }\n",
              "</style>\n",
              "<table border=\"1\" class=\"dataframe\">\n",
              "  <thead>\n",
              "    <tr style=\"text-align: right;\">\n",
              "      <th></th>\n",
              "      <th>Title</th>\n",
              "      <th>Artist</th>\n",
              "      <th>Nationality</th>\n",
              "      <th>Gender</th>\n",
              "      <th>Medium</th>\n",
              "      <th>Classification</th>\n",
              "      <th>DateAcquired</th>\n",
              "      <th>YearAcquired</th>\n",
              "    </tr>\n",
              "  </thead>\n",
              "  <tbody>\n",
              "    <tr>\n",
              "      <th>98186</th>\n",
              "      <td>Group of Figures</td>\n",
              "      <td>Katharina Fritsch</td>\n",
              "      <td>German</td>\n",
              "      <td>Female</td>\n",
              "      <td>Painted stainless steel, painted bronze, and p...</td>\n",
              "      <td>Sculpture</td>\n",
              "      <td>2009-09-21</td>\n",
              "      <td>2009</td>\n",
              "    </tr>\n",
              "    <tr>\n",
              "      <th>115793</th>\n",
              "      <td>Lure</td>\n",
              "      <td>Kiki Smith</td>\n",
              "      <td>American</td>\n",
              "      <td>Female</td>\n",
              "      <td>Bronze with string, forged bronze hook, and pe...</td>\n",
              "      <td>Sculpture</td>\n",
              "      <td>2013-10-07</td>\n",
              "      <td>2013</td>\n",
              "    </tr>\n",
              "  </tbody>\n",
              "</table>\n",
              "</div>"
            ],
            "text/plain": [
              "                   Title             Artist Nationality  Gender  \\\n",
              "98186   Group of Figures  Katharina Fritsch      German  Female   \n",
              "115793              Lure         Kiki Smith    American  Female   \n",
              "\n",
              "                                                   Medium Classification  \\\n",
              "98186   Painted stainless steel, painted bronze, and p...      Sculpture   \n",
              "115793  Bronze with string, forged bronze hook, and pe...      Sculpture   \n",
              "\n",
              "       DateAcquired  YearAcquired  \n",
              "98186    2009-09-21          2009  \n",
              "115793   2013-10-07          2013  "
            ]
          },
          "metadata": {
            "tags": []
          },
          "execution_count": 14
        }
      ]
    },
    {
      "cell_type": "markdown",
      "metadata": {
        "id": "s-cUjf0yO5cZ"
      },
      "source": [
        "### Query"
      ]
    },
    {
      "cell_type": "code",
      "metadata": {
        "colab": {
          "base_uri": "https://localhost:8080/",
          "height": 112
        },
        "id": "2xnDhfw3O3lE",
        "outputId": "b002f1a8-5280-40ee-ef26-59abefc14f2c"
      },
      "source": [
        "artist_mask = df.Artist.str.startswith('K')\n",
        "medium_mask = df.Medium.str.contains('bronze')\n",
        "filtered = df.query('Gender == \"Female\" \\\n",
        "                    & Nationality in [\"American\", \"German\"] \\\n",
        "                    & Classification == \"Sculpture\" \\\n",
        "                    & YearAcquired >= 1990 \\\n",
        "                    & @artist_mask \\\n",
        "                    & @medium_mask') \n",
        "filtered"
      ],
      "execution_count": 15,
      "outputs": [
        {
          "output_type": "execute_result",
          "data": {
            "text/html": [
              "<div>\n",
              "<style scoped>\n",
              "    .dataframe tbody tr th:only-of-type {\n",
              "        vertical-align: middle;\n",
              "    }\n",
              "\n",
              "    .dataframe tbody tr th {\n",
              "        vertical-align: top;\n",
              "    }\n",
              "\n",
              "    .dataframe thead th {\n",
              "        text-align: right;\n",
              "    }\n",
              "</style>\n",
              "<table border=\"1\" class=\"dataframe\">\n",
              "  <thead>\n",
              "    <tr style=\"text-align: right;\">\n",
              "      <th></th>\n",
              "      <th>Title</th>\n",
              "      <th>Artist</th>\n",
              "      <th>Nationality</th>\n",
              "      <th>Gender</th>\n",
              "      <th>Medium</th>\n",
              "      <th>Classification</th>\n",
              "      <th>DateAcquired</th>\n",
              "      <th>YearAcquired</th>\n",
              "    </tr>\n",
              "  </thead>\n",
              "  <tbody>\n",
              "    <tr>\n",
              "      <th>98186</th>\n",
              "      <td>Group of Figures</td>\n",
              "      <td>Katharina Fritsch</td>\n",
              "      <td>German</td>\n",
              "      <td>Female</td>\n",
              "      <td>Painted stainless steel, painted bronze, and p...</td>\n",
              "      <td>Sculpture</td>\n",
              "      <td>2009-09-21</td>\n",
              "      <td>2009</td>\n",
              "    </tr>\n",
              "    <tr>\n",
              "      <th>115793</th>\n",
              "      <td>Lure</td>\n",
              "      <td>Kiki Smith</td>\n",
              "      <td>American</td>\n",
              "      <td>Female</td>\n",
              "      <td>Bronze with string, forged bronze hook, and pe...</td>\n",
              "      <td>Sculpture</td>\n",
              "      <td>2013-10-07</td>\n",
              "      <td>2013</td>\n",
              "    </tr>\n",
              "  </tbody>\n",
              "</table>\n",
              "</div>"
            ],
            "text/plain": [
              "                   Title             Artist Nationality  Gender  \\\n",
              "98186   Group of Figures  Katharina Fritsch      German  Female   \n",
              "115793              Lure         Kiki Smith    American  Female   \n",
              "\n",
              "                                                   Medium Classification  \\\n",
              "98186   Painted stainless steel, painted bronze, and p...      Sculpture   \n",
              "115793  Bronze with string, forged bronze hook, and pe...      Sculpture   \n",
              "\n",
              "       DateAcquired  YearAcquired  \n",
              "98186    2009-09-21          2009  \n",
              "115793   2013-10-07          2013  "
            ]
          },
          "metadata": {
            "tags": []
          },
          "execution_count": 15
        }
      ]
    },
    {
      "cell_type": "markdown",
      "metadata": {
        "id": "98MWeqmaLvAc"
      },
      "source": [
        "### np.where"
      ]
    },
    {
      "cell_type": "code",
      "metadata": {
        "colab": {
          "base_uri": "https://localhost:8080/",
          "height": 112
        },
        "id": "wAVlqF0bLxq3",
        "outputId": "925e9ac1-78ff-41a8-aa67-f9aca34e2612"
      },
      "source": [
        "idx = np.where((df.Gender=='Female') \\\n",
        "               & (df.Nationality.isin(['American','German'])) \\\n",
        "               & (df.Classification=='Sculpture') \\\n",
        "               & (df.YearAcquired >= 1990) \\\n",
        "               & (df.Artist.str.startswith('K')) \\\n",
        "               & (df.Medium.str.contains('bronze')))\n",
        "\n",
        "df.reset_index(drop=True, inplace=True)\n",
        "df.loc[idx]"
      ],
      "execution_count": 16,
      "outputs": [
        {
          "output_type": "execute_result",
          "data": {
            "text/html": [
              "<div>\n",
              "<style scoped>\n",
              "    .dataframe tbody tr th:only-of-type {\n",
              "        vertical-align: middle;\n",
              "    }\n",
              "\n",
              "    .dataframe tbody tr th {\n",
              "        vertical-align: top;\n",
              "    }\n",
              "\n",
              "    .dataframe thead th {\n",
              "        text-align: right;\n",
              "    }\n",
              "</style>\n",
              "<table border=\"1\" class=\"dataframe\">\n",
              "  <thead>\n",
              "    <tr style=\"text-align: right;\">\n",
              "      <th></th>\n",
              "      <th>Title</th>\n",
              "      <th>Artist</th>\n",
              "      <th>Nationality</th>\n",
              "      <th>Gender</th>\n",
              "      <th>Medium</th>\n",
              "      <th>Classification</th>\n",
              "      <th>DateAcquired</th>\n",
              "      <th>YearAcquired</th>\n",
              "    </tr>\n",
              "  </thead>\n",
              "  <tbody>\n",
              "    <tr>\n",
              "      <th>84950</th>\n",
              "      <td>Group of Figures</td>\n",
              "      <td>Katharina Fritsch</td>\n",
              "      <td>German</td>\n",
              "      <td>Female</td>\n",
              "      <td>Painted stainless steel, painted bronze, and p...</td>\n",
              "      <td>Sculpture</td>\n",
              "      <td>2009-09-21</td>\n",
              "      <td>2009</td>\n",
              "    </tr>\n",
              "    <tr>\n",
              "      <th>97808</th>\n",
              "      <td>Lure</td>\n",
              "      <td>Kiki Smith</td>\n",
              "      <td>American</td>\n",
              "      <td>Female</td>\n",
              "      <td>Bronze with string, forged bronze hook, and pe...</td>\n",
              "      <td>Sculpture</td>\n",
              "      <td>2013-10-07</td>\n",
              "      <td>2013</td>\n",
              "    </tr>\n",
              "  </tbody>\n",
              "</table>\n",
              "</div>"
            ],
            "text/plain": [
              "                  Title             Artist Nationality  Gender  \\\n",
              "84950  Group of Figures  Katharina Fritsch      German  Female   \n",
              "97808              Lure         Kiki Smith    American  Female   \n",
              "\n",
              "                                                  Medium Classification  \\\n",
              "84950  Painted stainless steel, painted bronze, and p...      Sculpture   \n",
              "97808  Bronze with string, forged bronze hook, and pe...      Sculpture   \n",
              "\n",
              "      DateAcquired  YearAcquired  \n",
              "84950   2009-09-21          2009  \n",
              "97808   2013-10-07          2013  "
            ]
          },
          "metadata": {
            "tags": []
          },
          "execution_count": 16
        }
      ]
    },
    {
      "cell_type": "markdown",
      "metadata": {
        "id": "FafURY_KZGS6"
      },
      "source": [
        "## 5. Timeit() Compare"
      ]
    },
    {
      "cell_type": "code",
      "metadata": {
        "id": "4FinJh7WPh6m"
      },
      "source": [
        "def boolean(df):\n",
        "  df[(df.Gender=='Female') \\\n",
        "                  & (df.Nationality.isin(['American','German'])) \\\n",
        "                  & (df.Classification=='Sculpture') \\\n",
        "                  & (df.YearAcquired >= 1990) \\\n",
        "                  & (df.Artist.str.startswith('K')) \\\n",
        "                  & (df.Medium.str.contains('bronze'))]\n",
        "\n",
        "def loc(df):\n",
        "  df.loc[(df.Gender=='Female') \\\n",
        "                  & (df.Nationality.isin(['American','German'])) \\\n",
        "                  & (df.Classification=='Sculpture') \\\n",
        "                  & (df.YearAcquired >= 1990) \\\n",
        "                  & (df.Artist.str.startswith('K')) \\\n",
        "                  & (df.Medium.str.contains('bronze'))]\n",
        "\n",
        "def query(df):\n",
        "  artist_mask = df.Artist.str.startswith('K')\n",
        "  medium_mask = df.Medium.str.contains('bronze')\n",
        "  df.query('Gender == \"Female\" \\\n",
        "                  & Nationality in [\"American\", \"German\"] \\\n",
        "                  & Classification == \"Sculpture\" \\\n",
        "                  & YearAcquired >= 1990 \\\n",
        "                  & @artist_mask \\\n",
        "                  & @medium_mask') \n",
        "  \n",
        "def where(df):\n",
        "  idx = np.where((df.Gender=='Female') \\\n",
        "               & (df.Nationality.isin(['American','German'])) \\\n",
        "               & (df.Classification=='Sculpture') \\\n",
        "               & (df.YearAcquired >= 1990) \\\n",
        "               & (df.Artist.str.startswith('K')) \\\n",
        "               & (df.Medium.str.contains('bronze')))\n",
        "  df.reset_index(drop=True, inplace=True)\n",
        "  df.loc[idx]\n",
        "\n",
        "\n",
        "funcs = [boolean, loc, query, where]\n",
        "runtimes = []\n",
        "repetitions = 10\n",
        "\n",
        "for func in funcs:\n",
        "  duration = (timeit.timeit('func(df)', number=repetitions, globals=globals()) / repetitions)*1e6 # average duration in milliseconds\n",
        "  runtimes.append({'Function': func.__name__, 'duration': duration})\n",
        "\n",
        "runtimes = pd.DataFrame(runtimes).sort_values(by='duration')"
      ],
      "execution_count": 17,
      "outputs": []
    },
    {
      "cell_type": "code",
      "metadata": {
        "colab": {
          "base_uri": "https://localhost:8080/",
          "height": 368
        },
        "id": "Y7G5BlmlMRTt",
        "outputId": "ec28443e-a6cb-4a44-d3c0-edfbe39533b1"
      },
      "source": [
        "# Plot\n",
        "fig, ax = plt.subplots(figsize=(12, 5))\n",
        "sns.barplot(x='duration', \n",
        "            y='Function', \n",
        "            data=runtimes, \n",
        "            ax=ax,\n",
        "            palette='viridis_r')\n",
        "\n",
        "ax.set(title='Runtime', xlabel='Duration (ms)',ylabel=None)"
      ],
      "execution_count": 27,
      "outputs": [
        {
          "output_type": "execute_result",
          "data": {
            "text/plain": [
              "[Text(0, 0.5, ''), Text(0.5, 0, 'Duration (ms)'), Text(0.5, 1.0, 'Runtime')]"
            ]
          },
          "metadata": {
            "tags": []
          },
          "execution_count": 27
        },
        {
          "output_type": "display_data",
          "data": {
            "image/png": "[encoded data removed]",
            "text/plain": [
              "<Figure size 864x360 with 1 Axes>"
            ]
          },
          "metadata": {
            "tags": [],
            "needs_background": "light"
          }
        }
      ]
    },
    {
      "cell_type": "code",
      "metadata": {
        "colab": {
          "base_uri": "https://localhost:8080/",
          "height": 175
        },
        "id": "okCQA-w2ZLre",
        "outputId": "1b61bf40-b6b7-4307-a9b8-2126d97f18f0"
      },
      "source": [
        "runtimes"
      ],
      "execution_count": 28,
      "outputs": [
        {
          "output_type": "execute_result",
          "data": {
            "text/html": [
              "<div>\n",
              "<style scoped>\n",
              "    .dataframe tbody tr th:only-of-type {\n",
              "        vertical-align: middle;\n",
              "    }\n",
              "\n",
              "    .dataframe tbody tr th {\n",
              "        vertical-align: top;\n",
              "    }\n",
              "\n",
              "    .dataframe thead th {\n",
              "        text-align: right;\n",
              "    }\n",
              "</style>\n",
              "<table border=\"1\" class=\"dataframe\">\n",
              "  <thead>\n",
              "    <tr style=\"text-align: right;\">\n",
              "      <th></th>\n",
              "      <th>Function</th>\n",
              "      <th>duration</th>\n",
              "    </tr>\n",
              "  </thead>\n",
              "  <tbody>\n",
              "    <tr>\n",
              "      <th>2</th>\n",
              "      <td>query</td>\n",
              "      <td>88352.6926</td>\n",
              "    </tr>\n",
              "    <tr>\n",
              "      <th>1</th>\n",
              "      <td>loc</td>\n",
              "      <td>92710.4935</td>\n",
              "    </tr>\n",
              "    <tr>\n",
              "      <th>0</th>\n",
              "      <td>boolean</td>\n",
              "      <td>95475.2152</td>\n",
              "    </tr>\n",
              "    <tr>\n",
              "      <th>3</th>\n",
              "      <td>where</td>\n",
              "      <td>108986.8585</td>\n",
              "    </tr>\n",
              "  </tbody>\n",
              "</table>\n",
              "</div>"
            ],
            "text/plain": [
              "  Function     duration\n",
              "2    query   88352.6926\n",
              "1      loc   92710.4935\n",
              "0  boolean   95475.2152\n",
              "3    where  108986.8585"
            ]
          },
          "metadata": {
            "tags": []
          },
          "execution_count": 28
        }
      ]
    },
    {
      "cell_type": "markdown",
      "metadata": {
        "id": "DsHZPiqzXXpa"
      },
      "source": [
        "## 6. References\n",
        "\n",
        "https://github.com/MuseumofModernArt/collection\n",
        "\n",
        "https://ramiro.org/notebook/pandas-crosstab-groupby-pivot/\n",
        "\n",
        "https://stackoverflow.com/questions/38886080/python-pandas-series-why-use-loc\n",
        "\n",
        "https://www.listendata.com/2019/07/how-to-filter-pandas-dataframe.html\n",
        "\n",
        "https://www.geeksforgeeks.org/ways-to-filter-pandas-dataframe-by-column-values/\n",
        "\n",
        "https://www.geeksforgeeks.org/python-filtering-data-with-pandas-query-method/\n",
        "\n",
        "https://pandas.pydata.org/pandas-docs/stable/reference/api/pandas.DataFrame.query.html"
      ]
    }
  ]
}